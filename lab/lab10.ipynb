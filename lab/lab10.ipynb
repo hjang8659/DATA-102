{
 "cells": [
  {
   "cell_type": "code",
   "execution_count": 1,
   "id": "e6c040d2",
   "metadata": {
    "deletable": false,
    "editable": false
   },
   "outputs": [],
   "source": [
    "# Initialize Otter\n",
    "import otter\n",
    "grader = otter.Notebook(\"lab10.ipynb\")"
   ]
  },
  {
   "cell_type": "markdown",
   "id": "0257a678",
   "metadata": {},
   "source": [
    "# Lab 10: Reinforcement Learning with Data\n",
    "Welcome to the 10th DS102 lab! \n",
    "\n",
    "The goal of this lab is to explore solving MDPs by collecting data. This will include simple Monte Carlo estimates from offline data, and the online Q-learning algorithm. \n",
    "\n",
    "The code you need to write is indicated with `...`. There is additional documentation for each part as you go along.\n",
    "\n",
    "## Collaboration Policy\n",
    "Data science is a collaborative activity. While you may talk with others about the labs, we ask that you **write your solutions individually**. If you do discuss the assignments with others please **include their names** in the cell below.\n",
    "\n",
    "## Submission\n",
    "See the [Gradescope Submission Guidelines](https://edstem.org/us/courses/33922/discussion/2419862) for details on how to submit your lab.\n",
    "\n",
    "**For full credit, this assignment should be completed and submitted before Wednesday, April 26th, 2023 at 11:59 PM PDT.**"
   ]
  },
  {
   "cell_type": "markdown",
   "id": "cadf962c",
   "metadata": {},
   "source": [
    "## Collaborators\n",
    "Write the names of your collaborators in this cell.\n",
    "\n",
    "`<Collaborator Name> <Collaborator e-mail>`"
   ]
  },
  {
   "cell_type": "code",
   "execution_count": 2,
   "id": "09064ce4",
   "metadata": {},
   "outputs": [],
   "source": [
    "import copy\n",
    "import sys\n",
    "import time\n",
    "\n",
    "import numpy as np\n",
    "import matplotlib.pyplot as plt\n",
    "from IPython.display import clear_output"
   ]
  },
  {
   "cell_type": "markdown",
   "id": "d861a19f",
   "metadata": {},
   "source": [
    "## Defining the GridWorld class \n",
    "We begin by defining a class for the environment in which we will run our experiments. This is the grid world from class where we can have both a stochastic or deterministic environment. In the stochastic case the agent will have a probability of 0.8 of going in the direction it's told to go, and a probability of 0.1 of going in each direction orthogonal to the direction it's meant to go in."
   ]
  },
  {
   "cell_type": "code",
   "execution_count": 3,
   "id": "141a58fb",
   "metadata": {},
   "outputs": [],
   "source": [
    "FORWARD_PROB = 0.8\n",
    "LEFT_PROB = 0.1\n",
    "RIGHT_PROB = 0.1\n",
    "BACKWARD_PROB = 0.0\n",
    "FIXED_PROB = 0.0\n",
    "class GridWorld():\n",
    "    \"\"\"The grid world class.\n",
    "    \n",
    "    Inputs:\n",
    "        grid : list of list of str\n",
    "            The starting representation of the world. A single element\n",
    "            must be \"R\" which represents the starting location of the robot.\n",
    "            Any element that is \"\" represents a cell on which the robot can travel,\n",
    "            \"X\" represents a rock which the robot can not travel on, and any\n",
    "            cell with a string that can be converted to a number represents\n",
    "            a terminal state with its corresponding reward.\n",
    "        stochastic : bool\n",
    "            Whether the environment is stochastic or deterministic.\n",
    "\n",
    "    \"\"\"\n",
    "    def __init__(self, grid, stochastic):\n",
    "        self._grid = grid\n",
    "        self.num_rows = len(grid)\n",
    "        self.num_cols = len(grid[0])\n",
    "        self._stochastic = stochastic\n",
    "        # Determine the starting location of the robot.\n",
    "        for i in range(self.num_rows):\n",
    "            for j in range(self.num_cols):\n",
    "                if self._grid[i][j] == \"R\":\n",
    "                    self._grid[i][j] = \"\"\n",
    "                    self._row_pos = i\n",
    "                    self._col_pos = j\n",
    "                    self._start_row_pos = i\n",
    "                    self._start_col_pos = j\n",
    "\n",
    "    def reset(self):\n",
    "        \"\"\"Reset the environment to its original state.\"\"\"\n",
    "        self._row_pos = self._start_row_pos\n",
    "        self._col_pos = self._start_col_pos\n",
    "        return (self._row_pos, self._col_pos)\n",
    "        \n",
    "    def step(self, action):\n",
    "        \"\"\"Move the robot a single step in the world.\n",
    "        \n",
    "        Inputs:\n",
    "            action : str\n",
    "                The desired direction to travel in. Can either be\n",
    "                \"north\", \"west\", \"east\", \"south\".\n",
    "            \n",
    "        Outputs:\n",
    "            pos : tuple of int\n",
    "                The location the robot ends up at after taking a step.\n",
    "                The first element represents the row and the second element\n",
    "                represents the column.\n",
    "            reward : float\n",
    "                The reward from taking this step.\n",
    "            done : bool\n",
    "                Whether the robot has reached a terminal state or not.\n",
    "\n",
    "        \"\"\"\n",
    "        # Determine the transition probabilities based on the action and\n",
    "        # whether the environment is stochastic or deterministic.\n",
    "        if self._stochastic:\n",
    "            if action == \"north\":\n",
    "                transition_probs = {\n",
    "                    \"north\": FORWARD_PROB,\n",
    "                    \"west\": LEFT_PROB,\n",
    "                    \"east\": RIGHT_PROB,\n",
    "                    \"south\": BACKWARD_PROB,\n",
    "                    \"fixed\": FIXED_PROB\n",
    "                }\n",
    "            if action == \"west\":\n",
    "                transition_probs = {\n",
    "                    \"north\": RIGHT_PROB,\n",
    "                    \"west\": FORWARD_PROB,\n",
    "                    \"east\": BACKWARD_PROB,\n",
    "                    \"south\": LEFT_PROB,\n",
    "                    \"fixed\": FIXED_PROB\n",
    "                }\n",
    "            if action == \"east\":\n",
    "                transition_probs = {\n",
    "                    \"north\": LEFT_PROB,\n",
    "                    \"west\": BACKWARD_PROB,\n",
    "                    \"east\": FORWARD_PROB,\n",
    "                    \"south\": RIGHT_PROB,\n",
    "                    \"fixed\": FIXED_PROB\n",
    "                }\n",
    "            if action == \"south\":\n",
    "                transition_probs = {\n",
    "                    \"north\": BACKWARD_PROB,\n",
    "                    \"west\":RIGHT_PROB,\n",
    "                    \"east\": LEFT_PROB,\n",
    "                    \"south\": FORWARD_PROB,\n",
    "                    \"fixed\": FIXED_PROB\n",
    "                }\n",
    "        else:\n",
    "            transition_probs = {\n",
    "                \"north\": 0.0,\n",
    "                \"west\": 0.0,\n",
    "                \"east\": 0.0,\n",
    "                \"south\": 0.0,\n",
    "                \"fixed\": 0.0\n",
    "            }\n",
    "            transition_probs[action] = 1.0\n",
    "            \n",
    "        # Account for the cases where we are on the boundaries or\n",
    "        # next to a rock.\n",
    "        row = self._row_pos\n",
    "        col = self._col_pos\n",
    "        if row == 0 or self._grid[row - 1][col] == \"X\":\n",
    "            transition_probs[\"fixed\"] += transition_probs[\"north\"]\n",
    "            transition_probs[\"north\"] = 0.0\n",
    "        if col == 0 or self._grid[row][col - 1] == \"X\":\n",
    "            transition_probs[\"fixed\"] += transition_probs[\"west\"]\n",
    "            transition_probs[\"west\"] = 0.0\n",
    "        if row == self.num_rows - 1 or self._grid[row + 1][col] == \"X\":\n",
    "            transition_probs[\"fixed\"] += transition_probs[\"south\"]\n",
    "            transition_probs[\"south\"] = 0.0\n",
    "        if col == self.num_cols - 1 or self._grid[row][col + 1] == \"X\":\n",
    "            transition_probs[\"fixed\"] += transition_probs[\"east\"]\n",
    "            transition_probs[\"east\"] = 0.0\n",
    "\n",
    "        # Decide which direction the robot will go.\n",
    "        directions = list(transition_probs.keys())\n",
    "        probs = list(transition_probs.values())\n",
    "        move = np.random.choice(directions, p=probs)\n",
    "        if move == \"north\":\n",
    "            self._row_pos -= 1\n",
    "        elif move == \"west\":\n",
    "            self._col_pos -= 1\n",
    "        elif move == \"east\":\n",
    "            self._col_pos += 1\n",
    "        elif move == \"south\":\n",
    "            self._row_pos += 1\n",
    "\n",
    "        # Check if we are on a final state and determine the reward.\n",
    "        if self._grid[self._row_pos][self._col_pos] != \"\":\n",
    "            reward = float(self._grid[self._row_pos][self._col_pos])\n",
    "            done = True\n",
    "        else:\n",
    "            reward = 0.0\n",
    "            done = False\n",
    "            \n",
    "        return (self._row_pos, self._col_pos), reward, done\n",
    "            \n",
    "    def render(self):\n",
    "        \"\"\"Print an ASCII visualization of the world.\"\"\"\n",
    "        for i, row in enumerate(self._grid):\n",
    "            row_strs = []\n",
    "            for j, elt in enumerate(row):\n",
    "                sys.stdout.write(\" -----\")\n",
    "                if i == self._row_pos and j == self._col_pos:\n",
    "                    elt = \"R\"\n",
    "                row_strs.append(elt.center(5))\n",
    "            sys.stdout.write(\"\\n\")\n",
    "            sys.stdout.write(\"|\" + \"|\".join(row_strs) + \"|\")\n",
    "            sys.stdout.write(\"\\n\")\n",
    "        for _ in range(self.num_cols):\n",
    "            sys.stdout.write(\" -----\")\n",
    "        sys.stdout.flush()\n"
   ]
  },
  {
   "cell_type": "markdown",
   "id": "58fbacdf",
   "metadata": {},
   "source": [
    "Below we show you how to initialize and render a simple GridWorld environment:"
   ]
  },
  {
   "cell_type": "code",
   "execution_count": 4,
   "id": "24928247",
   "metadata": {},
   "outputs": [
    {
     "name": "stdout",
     "output_type": "stream",
     "text": [
      " ----- ----- ----- -----\n",
      "|  R  |     | 100 |  X  |\n",
      " ----- ----- ----- -----\n",
      "|     |  X  |  X  |  X  |\n",
      " ----- ----- ----- -----\n",
      "|     |     |     | 100 |\n",
      " ----- ----- ----- -----"
     ]
    }
   ],
   "source": [
    "# Here we initialize the environment.\n",
    "simple_env = GridWorld([[\"R\", \"\", \"100\",  \"X\", ],\n",
    "                        [\"\", \"X\", \"X\", \"X\"],\n",
    "                        [\"\", \"\", \"\",  \"100\"]], stochastic=False)\n",
    "\n",
    "# Here we draw the initial state to the screen.\n",
    "simple_env.render()"
   ]
  },
  {
   "cell_type": "markdown",
   "id": "0717f7a7",
   "metadata": {},
   "source": [
    "And how the robot moves in this environment:"
   ]
  },
  {
   "cell_type": "code",
   "execution_count": 5,
   "id": "df86c96e",
   "metadata": {},
   "outputs": [
    {
     "name": "stdout",
     "output_type": "stream",
     "text": [
      " ----- ----- ----- -----\n",
      "|     |  R  | 100 |  X  |\n",
      " ----- ----- ----- -----\n",
      "|     |  X  |  X  |  X  |\n",
      " ----- ----- ----- -----\n",
      "|     |     |     | 100 |\n",
      " ----- ----- ----- -----"
     ]
    }
   ],
   "source": [
    "# Here we take the \"east\" action and then draw the new state to the screen.\n",
    "next_state, reward, is_done = simple_env.step(\"east\")\n",
    "simple_env.render()"
   ]
  },
  {
   "cell_type": "code",
   "execution_count": 6,
   "id": "1039c427",
   "metadata": {},
   "outputs": [
    {
     "name": "stdout",
     "output_type": "stream",
     "text": [
      "(0, 1) 0.0 False\n"
     ]
    }
   ],
   "source": [
    "# Here we print out the information that the \"step\" function returns.\n",
    "print(next_state, reward, is_done)"
   ]
  },
  {
   "cell_type": "markdown",
   "id": "c52e9b3f",
   "metadata": {},
   "source": [
    "# Question 1: Monte Carlo Policy Evaluation\n",
    "\n",
    "So far in class and in discussion section, we have considered the case where we have a **known** MDP and we want to solve for the value function. We've used the recursive Bellman equation to do so. For example, we can solve for the value of following a deterministic policy $\\pi$ starting from a state $s$ by using the following defintion:\n",
    "\n",
    "$$ V^{\\pi}(s) = \\mathbb{E}_{s'} \\left[ R(s, \\pi(s) ,s') + \\gamma V^{\\pi}(s') \\right] = \\sum_{s'} P(s' | s, \\pi(s)) \\left( R(s, \\pi(s) ,s') + \\gamma V^{\\pi}(s') \\right) $$\n",
    "\n",
    "As long as we know $P$, $R$, and $\\pi$', we can apply value iteration to compute $V^{\\pi}(s)$.\n",
    "\n",
    "In this question, we will begin to explore how to do Reinforcement Learning when we **don't know** $P$ or $R$. Instead we will collect data using a fixed policy $\\pi$ and then estimate the value function directly. The simplest approach is called **Monte Carlo** policy evaluation. We collect many trajectories and then take a simple sample average. \n",
    "\n",
    "At first this might sound confusing. How do we compute a sample average for $V^{\\pi}(s)$? The righthand side requires that we know $V^{\\pi}(s)$! First, we need to introduce an equivalent but simpler way of writing the value function. It turns out that the value function is equivalent to the **average discounted sum of rewards** from running the policy $\\pi$ starting in a state $s$. For an episode that lasts for $T$ time steps, we can write mathematically:\n",
    "\n",
    "$$V^{\\pi}(s) = \\mathbb{E} \\left[ \\sum_{t=1}^T \\gamma^{t-1} R(s_t, a_t, s'_t)  \\right]$$\n",
    "\n",
    "where $s_1 = s$, $a_t \\sim \\pi(s_t)$, and $s'_t \\sim P(\\cdot | s_t, a_t)$. Note that the expectation is taken with respect to both the randomness in $\\pi$ (if any) and the randomness in $P$.\n",
    "\n",
    "Solving this expectation mathematically using $P$, $R$, and $\\pi$ is very difficult - that's why we typically use the Bellman equation instead. But if we collect many trajectories from running $\\pi$ in the environment, then this equation is much simpler: we just take the sample average."
   ]
  },
  {
   "cell_type": "markdown",
   "id": "17be80df",
   "metadata": {},
   "source": [
    "For a concrete example, let's consider the simple uniform random policy. This policy ignores the state and chooses between the four actions uniformly at random."
   ]
  },
  {
   "cell_type": "code",
   "execution_count": 7,
   "id": "fd403556",
   "metadata": {},
   "outputs": [],
   "source": [
    "def random_policy(s):\n",
    "    \"\"\"Return a random action.\"\"\"\n",
    "    a = np.random.choice([\"north\", \"south\", \"east\", \"west\"])\n",
    "    return a"
   ]
  },
  {
   "cell_type": "markdown",
   "id": "32c95a0d",
   "metadata": {},
   "source": [
    "## Question 1a\n",
    "\n",
    "Now you will write some code which takes a policy (in the form of a function from states to actions just like the code above) and then runs that policy in a given GridWorld environment so that we can collect a dataset."
   ]
  },
  {
   "cell_type": "code",
   "execution_count": 9,
   "id": "9182daa8",
   "metadata": {
    "tags": []
   },
   "outputs": [],
   "source": [
    "def run_policy(pi, env, render=False):\n",
    "    \n",
    "    \"\"\"Run an agent that follows a fixed policy\n",
    "    \n",
    "    Inputs:\n",
    "        pi : function\n",
    "            A function that takes a state and returns an action\n",
    "        env : GridWorld\n",
    "            The environment in which to run the agent.\n",
    "        render : bool\n",
    "            Whether to print the environment as it goes through each iteration.\n",
    "    \n",
    "    Returns:\n",
    "        samples: list of tuple of float\n",
    "            A list of (state, action, next state, reward) tuples from running\n",
    "                the policy in the environment\n",
    "    \"\"\"\n",
    "    \n",
    "    state = env.reset()\n",
    "    if render:\n",
    "        time.sleep(1.0)\n",
    "        clear_output(wait=True)\n",
    "        env.render()\n",
    "        \n",
    "    done = False\n",
    "    samples = []\n",
    "    while not done:\n",
    "        old_state = state\n",
    "        \n",
    "        # use the policy to get the next action\n",
    "        action = pi(state)\n",
    "        \n",
    "        # apply the action in the environment\n",
    "        state, reward, done = env.step(action)\n",
    "        \n",
    "        samples.append((old_state, action, state, reward))\n",
    "        if render:\n",
    "            time.sleep(0.3)\n",
    "            clear_output(wait=True)\n",
    "            env.render()\n",
    "            \n",
    "    return samples"
   ]
  },
  {
   "cell_type": "code",
   "execution_count": 10,
   "id": "ec359238",
   "metadata": {
    "deletable": false,
    "editable": false
   },
   "outputs": [
    {
     "data": {
      "text/html": [
       "<p><strong><pre style='display: inline;'>q1a</pre></strong> passed! 🚀</p>"
      ],
      "text/plain": [
       "q1a results: All test cases passed!"
      ]
     },
     "execution_count": 10,
     "metadata": {},
     "output_type": "execute_result"
    }
   ],
   "source": [
    "grader.check(\"q1a\")"
   ]
  },
  {
   "cell_type": "markdown",
   "id": "ba9036b4",
   "metadata": {},
   "source": [
    "Lets watch the random policy in action:"
   ]
  },
  {
   "cell_type": "code",
   "execution_count": 11,
   "id": "be082ced",
   "metadata": {},
   "outputs": [
    {
     "name": "stdout",
     "output_type": "stream",
     "text": [
      " ----- ----- ----- -----\n",
      "|     |     | 100 |  X  |\n",
      " ----- ----- ----- -----\n",
      "|     |  X  |  X  |  X  |\n",
      " ----- ----- ----- -----\n",
      "|     |     |     |  R  |\n",
      " ----- ----- ----- -----"
     ]
    }
   ],
   "source": [
    "np.random.seed(20)\n",
    "samples = run_policy(random_policy, simple_env, True)"
   ]
  },
  {
   "cell_type": "markdown",
   "id": "d96ad2fd",
   "metadata": {},
   "source": [
    "## Question 1b\n",
    "\n",
    "We just collected a dataset called `samples` which is a list of (state, action, next state, reward) tuples. For time step $t$, denote the collected tuple $(s_t, a_t, s'_t, r_t)$. We can now compute the discounted sum of rewards:\n",
    "\n",
    "$$\\sum_{t=1}^T \\gamma^{t-1} R(s_t, a_t, s'_t) $$\n",
    "\n",
    "Remember: this is what was inside the expectation in our new way of writing the value function! This sum is sometimes called the **return** of an episode. In the textbox below, given a list of $(s,a,s',r)$ tuples, you will calculate the discounted sum of rewards."
   ]
  },
  {
   "cell_type": "code",
   "execution_count": 15,
   "id": "faf0d421",
   "metadata": {
    "tags": []
   },
   "outputs": [],
   "source": [
    "def calculate_return(samples, gamma=0.9):\n",
    "    \"\"\"Compute the discounted sum of rewards given a trajectory of samples.\n",
    "    \n",
    "    Inputs:\n",
    "        samples : list of tuple of float\n",
    "            A list of (state, action, next state, reward) tuples from running\n",
    "                the policy in the environment.\n",
    "        gamma : float\n",
    "            The discount factor.\n",
    "    \n",
    "    Returns:\n",
    "        value: float\n",
    "            The discounted sum of rewards from the samples list.\n",
    "    \"\"\"\n",
    "    \n",
    "    value = 0\n",
    "    for i in range(len(samples)-1, -1, -1):\n",
    "        state, action, next_state, reward = samples[i]\n",
    "        value = reward + gamma * value\n",
    "        \n",
    "    return value"
   ]
  },
  {
   "cell_type": "code",
   "execution_count": 16,
   "id": "37444712",
   "metadata": {
    "deletable": false,
    "editable": false
   },
   "outputs": [
    {
     "data": {
      "text/html": [
       "<p><strong><pre style='display: inline;'>q1b</pre></strong> passed! ✨</p>"
      ],
      "text/plain": [
       "q1b results: All test cases passed!"
      ]
     },
     "execution_count": 16,
     "metadata": {},
     "output_type": "execute_result"
    }
   ],
   "source": [
    "grader.check(\"q1b\")"
   ]
  },
  {
   "cell_type": "markdown",
   "id": "d8012acb",
   "metadata": {},
   "source": [
    "The value function for the starting state is the **average** discounted sum of rewards given the randomness in the environment and the policy. Finally, we'll compute our Monte Carlo estimate. We collect several trajectories, calculate the return for each trajectory, and then take the sample average:"
   ]
  },
  {
   "cell_type": "code",
   "execution_count": 17,
   "id": "aa9ab592",
   "metadata": {},
   "outputs": [
    {
     "name": "stdout",
     "output_type": "stream",
     "text": [
      "34.862835831001924\n"
     ]
    }
   ],
   "source": [
    "returns = []\n",
    "np.random.seed(20)\n",
    "for _ in range(100):\n",
    "    samples = run_policy(random_policy, simple_env, False)\n",
    "    returns.append(calculate_return(samples))\n",
    "value = np.array(returns).mean()\n",
    "\n",
    "print(value)"
   ]
  },
  {
   "cell_type": "markdown",
   "id": "88e79d42",
   "metadata": {},
   "source": [
    "Monte Carlo policy evaluation gives us an estimate of the value of a single policy starting from a single state.  Your estimate above should be around $35$. "
   ]
  },
  {
   "cell_type": "markdown",
   "id": "3dfb8f0a",
   "metadata": {},
   "source": [
    "<!-- BEGIN QUESTION -->\n",
    "\n",
    "## Question 1c\n",
    "\n",
    "Before we move on, summarize in your own words what steps we take to compute a Monte Carlo estimate of the value function for a policy $\\pi$."
   ]
  },
  {
   "cell_type": "markdown",
   "id": "f4765be0",
   "metadata": {},
   "source": [
    "Monte Carlo estimation of the value function for a policy 𝜋 involves collecting samples of (state, action, next state, reward) tuples by running the policy in the environment, calculating the discounted sum of rewards (returns), and using these samples to estimate the value function by averaging returns for each state over multiple episodes."
   ]
  },
  {
   "cell_type": "markdown",
   "id": "67001353",
   "metadata": {},
   "source": [
    "<!-- END QUESTION -->\n",
    "\n",
    "The random policy spends a lot of time meandering so on average the value is much smaller than 100. By looking at the grid world diagram, you can see we could do better if the robot just moved to the right twice in a row and immediately reached the terminal state.\n",
    "\n",
    "Instead of evaluating a fixed policy, we can also use data to solve for the **optimal** policy. In the next section, we'll show you how to estimate the optimal policy using the Q-learning algorithm."
   ]
  },
  {
   "cell_type": "markdown",
   "id": "e9d4eab8",
   "metadata": {},
   "source": [
    "# Question 2: Setting up Q-Learning \n",
    "\n",
    "Next, we will implement Q-learning for the grid world environment defined above. Recall that the optimal Q-function at a given state $s$ for an action $a$ is defined as\n",
    "$$Q(s, a) = \\sum_{s'} P(s'| a, s)\\left[R(s, a, s') + \\gamma \\max_{a'} Q(s', a')\\right]$$\n",
    "where $\\gamma$ is the discount factor, $P(s'| s,a)$ is the state transition probability function, and $R(s, a, s')$ is the reward function.\n",
    "\n",
    "**Note:** we can also define the $Q$-function as an average discounted sum like we did in Question 1. But for Q-learning, it's more convenient to use the recursive definition. This is a common trick in RL. You switch back and forth between the recursive and discounted sum definitions depending on what makes your problem easier."
   ]
  },
  {
   "cell_type": "markdown",
   "id": "4324103c",
   "metadata": {},
   "source": [
    "## Question 2a: Getting the optimal policy from the optimal Q-function.\n",
    "\n",
    "We know that the optimal policy chooses the action which maximizes the optimal Q-function at a given state:\n",
    "\n",
    "$$\\pi^*(s) = \\text{argmax}_a Q(s, a)$$\n",
    "\n",
    "Fill in the following code which takes a state and a Q-function and then returns a list of the maximizing actions. **If there is more than one action with the highest Q-value estimate, include them all in the list.**"
   ]
  },
  {
   "cell_type": "code",
   "execution_count": 18,
   "id": "a20d40c0",
   "metadata": {
    "tags": []
   },
   "outputs": [],
   "source": [
    "def greedy_action(state, Q_values):\n",
    "    \"\"\"Given a state and a Q-function, return the actions which maximizes the Q-function.\n",
    "    \n",
    "    Inputs:\n",
    "        state : int\n",
    "        Q_values : dict of dict\n",
    "            A Q function. The first index is over states\n",
    "            while the second index is over actions. So for example\n",
    "            Q_values[(1, 2)][\"north\"] is the Q-value for the state at position\n",
    "            (1, 2) and with action \"north\".\n",
    "            \n",
    "    Returns:\n",
    "        best_actions : list of string\n",
    "            The actions which maximizes the Q-function at the given state. \n",
    "    \"\"\"\n",
    "    \n",
    "    best_actions = []\n",
    "    best_value = -float(\"inf\")\n",
    "    for action, value in Q_values[state].items():\n",
    "        if value > best_value:\n",
    "            best_value = value\n",
    "            best_actions = [action]\n",
    "        elif value == best_value:\n",
    "            best_actions.append(action)\n",
    "    \n",
    "    return best_actions"
   ]
  },
  {
   "cell_type": "code",
   "execution_count": 19,
   "id": "e66d4eac",
   "metadata": {
    "deletable": false,
    "editable": false
   },
   "outputs": [
    {
     "data": {
      "text/html": [
       "<p><strong><pre style='display: inline;'>q2a</pre></strong> passed! 🚀</p>"
      ],
      "text/plain": [
       "q2a results: All test cases passed!"
      ]
     },
     "execution_count": 19,
     "metadata": {},
     "output_type": "execute_result"
    }
   ],
   "source": [
    "grader.check(\"q2a\")"
   ]
  },
  {
   "cell_type": "markdown",
   "id": "9891eb2d",
   "metadata": {},
   "source": [
    "In the cell below, we provide you with a simple GridWorld and it's optimal Q-function so that you can test your code."
   ]
  },
  {
   "cell_type": "code",
   "execution_count": 20,
   "id": "a369e644",
   "metadata": {},
   "outputs": [
    {
     "name": "stdout",
     "output_type": "stream",
     "text": [
      " ----- -----\n",
      "|  R  | 100 |\n",
      " ----- -----\n",
      "|     | 100 |\n",
      " ----- -----\n",
      "| 100 |  X  |\n",
      " ----- -----"
     ]
    }
   ],
   "source": [
    "env = GridWorld([[\"R\", \"100\"],\n",
    "                 [\"\", \"100\"],\n",
    "                 [\"100\", \"X\"]], stochastic=False)\n",
    "env.render()\n",
    "\n",
    "Qopt = { (0, 0): {'north': 90, 'west': 90,'east': 100,'south': 90},\n",
    "         (0, 1): {'north': 0, 'west': 0, 'east': 0,'south': 0},\n",
    "         (1, 0): {'north': 90, 'west': 90, 'east': 100,'south': 100},\n",
    "         (1, 1): {'north': 0, 'west': 0, 'east': 0, 'south': 0},\n",
    "         (2, 0): {'north': 0, 'west': 0, 'east': 0, 'south': 0},\n",
    "         (2, 1): {'north': 0, 'west': 0, 'east': 0, 'south': 0} }"
   ]
  },
  {
   "cell_type": "markdown",
   "id": "d3b1648d",
   "metadata": {},
   "source": [
    "## Question 2b:  Learning the Q-function \n",
    "\n",
    "Using the code above, if we knew the optimal Q-function, then we could find the optimal policy. If we knew $P$ and $R$, then we could compute the optimal Q-function using Q iteration. But what if we don't know $P$ and $R$? There is a very clever algorithm called **Q-learning** which can solve for $Q(s,a)$ by collecting data. For Monte Carlo estimation, we needed to collect a bunch of trajectories all at once using a single policy. Q-learning is an online algorithm which **adapts** the data-collection policy after every action, getting closer and closer to the optimal policy.  \n",
    "\n",
    "After every step, we update our estimate of the optimal Q-function using the new state and reward we observe. For example, say we have some estimate of the Q-function $\\hat{Q}_k$ after observing $k$ samples, and say we observe a new sample which consists of $s$ the state we were at, $a$ the action we performed, $s'$ the state we ended up at, and $r$ the reward we got. Then our updated $Q$ function is given by\n",
    "$$\\hat{Q}_{k + 1}(s, a) \\leftarrow (1 - \\alpha)\\hat{Q}_k(s, a) + \\alpha \\left[r + \\gamma\\max_{a'} \\hat{Q}_k(s', a')\\right]$$\n",
    "where $\\alpha$ is a parameter between $0$ and $1$ that we set.\n",
    "\n",
    "### Fill in the function below, which updates the Q function using observed samples. "
   ]
  },
  {
   "cell_type": "code",
   "execution_count": 23,
   "id": "3929c5c5",
   "metadata": {
    "tags": []
   },
   "outputs": [],
   "source": [
    "def update_Q(Q_values, old_state, action, new_state, reward, gamma, alpha):\n",
    "    \"\"\"Given an old estimate of the Q function (given by the Q_values dict),\n",
    "    compute a new estimate by using observed samples.\n",
    "    \n",
    "    Modifies the Q_values dict in place, and does not return anything.\n",
    "    \n",
    "    Inputs:\n",
    "        Q_values : dict of dict\n",
    "            The estimate of the optimal Q values. The first index is over states\n",
    "            while the second index is over actions. So for example\n",
    "            Q_values[(1, 2)][\"north\"] is the Q-value for the state at position\n",
    "            (1, 2) and with action \"north\".\n",
    "        old_state : tuple of int\n",
    "            The state we were previously at before making the given action. The\n",
    "            first index represents the row while the second index represents the\n",
    "            column of the state.\n",
    "        action : string\n",
    "            The action we made. Can either be \"north\", \"east\", \"west\" or \"south\".\n",
    "        new_state : tuple of int\n",
    "            The state we transitioned to after making the given action.\n",
    "        reward : float\n",
    "            The reward we obtained after making our action.\n",
    "        gamma : float\n",
    "            The discount factor for the Q-function.\n",
    "        alpha : float\n",
    "            The proportion that tells us how we will weigh new incoming estimates of Q.\n",
    "    \"\"\"\n",
    "    # First compute the maximum Q-value at the new state.\n",
    "    max_Q = max(Q_values[new_state].values())\n",
    "\n",
    "    # Now update the new Q value estimates in place.\n",
    "    Q_values[old_state][action] = (1 - alpha) * Q_values[old_state][action] + alpha * (reward + gamma * max_Q)\n",
    "    \n",
    "    return Q_values"
   ]
  },
  {
   "cell_type": "code",
   "execution_count": 24,
   "id": "c1bd128b",
   "metadata": {
    "deletable": false,
    "editable": false
   },
   "outputs": [
    {
     "data": {
      "text/html": [
       "<p><strong><pre style='display: inline;'>q2b</pre></strong> passed! 🍀</p>"
      ],
      "text/plain": [
       "q2b results: All test cases passed!"
      ]
     },
     "execution_count": 24,
     "metadata": {},
     "output_type": "execute_result"
    }
   ],
   "source": [
    "grader.check(\"q2b\")"
   ]
  },
  {
   "cell_type": "markdown",
   "id": "d6ca8c2d",
   "metadata": {},
   "source": [
    "Below is another cell for testing your code:"
   ]
  },
  {
   "cell_type": "code",
   "execution_count": 25,
   "id": "8d1fc123",
   "metadata": {},
   "outputs": [
    {
     "name": "stdout",
     "output_type": "stream",
     "text": [
      " ----- -----\n",
      "|  R  | 100 |\n",
      " ----- -----\n",
      "|     | 100 |\n",
      " ----- -----\n",
      "| 100 |  X  |\n",
      " ----- -----"
     ]
    },
    {
     "data": {
      "text/plain": [
       "{(0, 0): {'north': 10, 'west': 15, 'east': 32.0, 'south': 10},\n",
       " (0, 1): {'north': 0, 'west': 0, 'east': 0, 'south': 0},\n",
       " (1, 0): {'north': 20, 'west': 15, 'east': 10, 'south': 20},\n",
       " (1, 1): {'north': 0, 'west': 0, 'east': 0, 'south': 0},\n",
       " (2, 0): {'north': 0, 'west': 0, 'east': 0, 'south': 0},\n",
       " (2, 1): {'north': 0, 'west': 0, 'east': 0, 'south': 0}}"
      ]
     },
     "execution_count": 25,
     "metadata": {},
     "output_type": "execute_result"
    }
   ],
   "source": [
    "env = GridWorld([[\"R\", \"100\"],\n",
    "                 [\"\", \"100\"],\n",
    "                 [\"100\", \"X\"]], stochastic=False)\n",
    "env.render()\n",
    "\n",
    "Q_current = { (0, 0): {'north': 10, 'west': 15,'east': 20,'south': 10},\n",
    "              (0, 1): {'north': 0, 'west': 0, 'east': 0,'south': 0},\n",
    "              (1, 0): {'north': 20, 'west': 15, 'east': 10,'south': 20},\n",
    "              (1, 1): {'north': 0, 'west': 0, 'east': 0, 'south': 0},\n",
    "              (2, 0): {'north': 0, 'west': 0, 'east': 0, 'south': 0},\n",
    "              (2, 1): {'north': 0, 'west': 0, 'east': 0, 'south': 0} }\n",
    "\n",
    "old_state = (0,0)\n",
    "action = 'east'\n",
    "new_state = (0,1)\n",
    "reward = 100\n",
    "\n",
    "update_Q(copy.deepcopy(Q_current), old_state, action, new_state, reward, 0.75, 0.15)"
   ]
  },
  {
   "cell_type": "markdown",
   "id": "59d2fd53",
   "metadata": {},
   "source": [
    "## Question 2c: Q-Learning Agent\n",
    "\n",
    "Now that we've implemented our Q-fuction update, we will define a agent that runs Q-learning in the environment. The agent will use two different exploration policies:\n",
    "\n",
    "1. greedy policy: The first type of agent always picks an action that maximizes our current estimate of the Q-function.\n",
    "2. $\\epsilon$-greedy policy: The second type picks the best estimate of the Q-function with probability $1-\\epsilon$, and picks a random action uniformly from the action space with probability $\\epsilon$. \n",
    "\n",
    "The first type is called a greedy agent while the second type is called an $\\epsilon$-greedy agent. Remember that taking greedy actions according to the **optimal** Q-function always results in the optimal policy. But when we are still learning the Q-function, we will see why $\\epsilon$-greedy agents are sometimes useful. \n",
    "\n",
    "First we define some useful helper functions:"
   ]
  },
  {
   "cell_type": "code",
   "execution_count": 26,
   "id": "fbe73a1c",
   "metadata": {},
   "outputs": [],
   "source": [
    "def init_Q(env):\n",
    "    \"\"\"Return initial Q-value estimates with all values 0.\"\"\"\n",
    "    Q_values = {}\n",
    "    for i in range(env.num_rows):\n",
    "        for j in range(env.num_cols):\n",
    "            Q_values[i, j] = {\n",
    "                \"north\": 0.0,\n",
    "                \"west\": 0.0,\n",
    "                \"east\": 0.0,\n",
    "                \"south\": 0.0\n",
    "            }\n",
    "    return Q_values\n",
    "\n",
    "def visualize_value(Q, env):\n",
    "    for i, row in enumerate(env._grid):\n",
    "        row_strs = []\n",
    "        for j, elt in enumerate(row):\n",
    "            sys.stdout.write(\" -------\")\n",
    "            \n",
    "            action = greedy_action((i,j), Q)[0]\n",
    "            elt = \"{:.3f}\".format(Q[(i,j)][action]) \n",
    "            \n",
    "            row_strs.append(elt.center(7))\n",
    "        sys.stdout.write(\"\\n\")\n",
    "        sys.stdout.write(\"|\" + \"|\".join(row_strs) + \"|\")\n",
    "        sys.stdout.write(\"\\n\")\n",
    "    for _ in range(env.num_cols):\n",
    "        sys.stdout.write(\" -------\")\n",
    "    sys.stdout.flush()"
   ]
  },
  {
   "cell_type": "markdown",
   "id": "750a73e9",
   "metadata": {},
   "source": [
    "### Fill in the `run_agent` function below that runs both of these types of agents.\n",
    "\n",
    "Note: Because of the randomness inherent in the function, you will have to search through the actions in the order \"north\", \"west\", \"east\", \"south\" when \n",
    "looking for which arms have the maximum value and you will have to use `np.random.choice` to choose.\n",
    "\n",
    "**Hint:** you already wrote code that returns a list of actions that maximize the Q-function."
   ]
  },
  {
   "cell_type": "code",
   "execution_count": 29,
   "id": "8de5b2dc",
   "metadata": {
    "tags": []
   },
   "outputs": [],
   "source": [
    "# TODO: fill in the best actions for the agent in the run_agent function.\n",
    "# The run_agent function can run either the greedy agent or the epsilon-greedy agent, \n",
    "# depending on the parameter epsilon that gets passed in.\n",
    "    \n",
    "def run_agent(Q_values, env, num_rollouts, gamma=0.9, alpha=0.1, epsilon=0.0, render=False, show_train=False):\n",
    "    \"\"\"Run a Q-learning agent in a given environment.\n",
    "    \n",
    "    Inputs:\n",
    "        Q_values : dict of dict\n",
    "            The Q value estimates to start from.\n",
    "        env : GridWorld\n",
    "            The environment in which to run the agent.\n",
    "        num_rollouts : int\n",
    "            The number of times we wish to reset the environment\n",
    "            to its original state.\n",
    "        gamma : float\n",
    "            The discount factor for the Q-function.\n",
    "        alpha : float\n",
    "            The proportion that tells us how we will weigh new incoming estimates of Q.\n",
    "        epsilon : float\n",
    "            The proportion of times the agent will randomly pick an action instead\n",
    "            of making the optimal move in terms of the current estimate Q-function.\n",
    "            If epsilon is set to 0 this corresponds to a greedy agent.\n",
    "        render : bool\n",
    "            Whether to print the environment as it goes through each iteration.\n",
    "        show_train: bool\n",
    "            If render is True, then show_train will also visualize the estimated value function\n",
    "    \n",
    "    Returns:\n",
    "        Q_values : dict of dict\n",
    "            The learned Q values. The first index is over states\n",
    "            while the second index is over actions. So for example\n",
    "            Q_values[(1, 2)][\"north\"] is the Q-value for the state at position\n",
    "            (1, 2) and with action \"north\".\n",
    "    \"\"\"\n",
    "    actions_order = [\"north\", \"west\", \"east\", \"south\"]  # Order of actions for tie-breaking\n",
    "    for i in range(num_rollouts):\n",
    "        state = env.reset()\n",
    "        if render:\n",
    "            time.sleep(1.0)\n",
    "            clear_output(wait=True)\n",
    "            env.render()\n",
    "            print()\n",
    "            if show_train:\n",
    "                visualize_value(Q_values, env)\n",
    "        done = False\n",
    "        samples = []\n",
    "        while not done:\n",
    "            if np.random.binomial(1, epsilon):\n",
    "                action = random_policy(state) # take random action\n",
    "            else:\n",
    "                # Take the best action according to the Q-value estimate.\n",
    "                # If multiple values are equal, randomly choose between them.\n",
    "                best_actions = []\n",
    "                max_q_value = np.max(list(Q_values[state].values()))\n",
    "                for action in actions_order:\n",
    "                    if Q_values[state][action] == max_q_value:\n",
    "                        best_actions.append(action)\n",
    "                action = np.random.choice(best_actions) # randomly choose between best actions\n",
    "            old_state = state\n",
    "            state, reward, done = env.step(action) # update state\n",
    "            samples.append((old_state, action, state, reward))\n",
    "            if render:\n",
    "                time.sleep(0.3)\n",
    "                clear_output(wait=True)\n",
    "                env.render()\n",
    "                print()\n",
    "                if show_train:\n",
    "                    visualize_value(Q_values, env)\n",
    "        # Update the Q-function using samples from this rollout.\n",
    "        for old_state, action, state, reward in reversed(samples):\n",
    "            Q_values = update_Q(Q_values, old_state, action, state, reward, gamma, alpha)\n",
    "    return Q_values"
   ]
  },
  {
   "cell_type": "code",
   "execution_count": 30,
   "id": "128ed257",
   "metadata": {
    "deletable": false,
    "editable": false
   },
   "outputs": [
    {
     "data": {
      "text/html": [
       "<p><strong><pre style='display: inline;'>q2c</pre></strong> passed! 🙌</p>"
      ],
      "text/plain": [
       "q2c results: All test cases passed!"
      ]
     },
     "execution_count": 30,
     "metadata": {},
     "output_type": "execute_result"
    }
   ],
   "source": [
    "grader.check(\"q2c\")"
   ]
  },
  {
   "cell_type": "markdown",
   "id": "65ac2a25",
   "metadata": {},
   "source": [
    "## Question 3. Q-learning in a deterministic setting \n",
    "Let's compare the behavior of the greedy agent vs. the $\\epsilon$-greedy agent. We consider a two-path setting where the agent can either receive a small reward by following a short path or a large reward by following a long path. In this setting, for any set of actions, the reward is deterministic.\n",
    "\n",
    "In the printed Grid World, R represents the agent, X's represent obstacles, and numbers represent rewards for reaching those positions."
   ]
  },
  {
   "cell_type": "code",
   "execution_count": 37,
   "id": "c638bafd",
   "metadata": {},
   "outputs": [],
   "source": [
    "# Initialize the world.\n",
    "env = GridWorld([[\"\",  \"\", \"\", \"\", \"\", \"100\",  \"X\", ],\n",
    "                 [\"\",  \"X\", \"X\", \"X\", \"X\", \"X\", \"X\"],\n",
    "                 [\"\",  \"\", \"\", \"\", \"R\", \"\",  \"1\"]], stochastic=False)"
   ]
  },
  {
   "cell_type": "markdown",
   "id": "136ad85e",
   "metadata": {},
   "source": [
    "### First, we'll watch the first 5 training iterations with actions the agent:\n",
    "\n",
    "Visualized underneath the grid is the current estimate of the value function (i.e. the estimated Q function after choosing the maximizing action in each state). "
   ]
  },
  {
   "cell_type": "code",
   "execution_count": 38,
   "id": "09785e9e",
   "metadata": {},
   "outputs": [
    {
     "name": "stdout",
     "output_type": "stream",
     "text": [
      " ----- ----- ----- ----- ----- ----- -----\n",
      "|     |     |     |     |     | 100 |  X  |\n",
      " ----- ----- ----- ----- ----- ----- -----\n",
      "|     |  X  |  X  |  X  |  X  |  X  |  X  |\n",
      " ----- ----- ----- ----- ----- ----- -----\n",
      "|     |     |     |     |     |     |  R  |\n",
      " ----- ----- ----- ----- ----- ----- -----\n",
      " ------- ------- ------- ------- ------- ------- -------\n",
      "| 0.000 | 0.000 | 0.000 | 0.000 | 0.000 | 0.000 | 0.000 |\n",
      " ------- ------- ------- ------- ------- ------- -------\n",
      "| 0.000 | 0.000 | 0.000 | 0.000 | 0.000 | 0.000 | 0.000 |\n",
      " ------- ------- ------- ------- ------- ------- -------\n",
      "| 0.000 | 0.000 | 0.000 | 0.101 | 0.731 | 0.938 | 0.000 |\n",
      " ------- ------- ------- ------- ------- ------- -------"
     ]
    }
   ],
   "source": [
    "np.random.seed(4)\n",
    "Q_values = init_Q(env)\n",
    "Q_values = run_agent(Q_values, env, 5, alpha=0.5, render=True, show_train=True)"
   ]
  },
  {
   "cell_type": "markdown",
   "id": "edcb166f",
   "metadata": {},
   "source": [
    "### Now we'll run training for 100 rollouts and then observe the behavior of the agent under the resulting Q estimate:"
   ]
  },
  {
   "cell_type": "code",
   "execution_count": 39,
   "id": "bd05b424",
   "metadata": {},
   "outputs": [
    {
     "name": "stdout",
     "output_type": "stream",
     "text": [
      " ----- ----- ----- ----- ----- ----- -----\n",
      "|     |     |     |     |     | 100 |  X  |\n",
      " ----- ----- ----- ----- ----- ----- -----\n",
      "|     |  X  |  X  |  X  |  X  |  X  |  X  |\n",
      " ----- ----- ----- ----- ----- ----- -----\n",
      "|     |     |     |     |     |     |  R  |\n",
      " ----- ----- ----- ----- ----- ----- -----\n"
     ]
    }
   ],
   "source": [
    "# No coding TODOs here, just run this cell to observe what the greedy agent does.\n",
    "np.random.seed(0)\n",
    "\n",
    "# Initialize the Q-value estimates.\n",
    "Q_values = init_Q(env)\n",
    "\n",
    "# TRAIN: Learn the Q-value for 100 rollouts.\n",
    "Q_values = run_agent(Q_values, env, 100, alpha=0.5, render=False)\n",
    "\n",
    "# Now let's see what the agent plays after learning the Q-values.\n",
    "Q_values = run_agent(Q_values, env, 1, render=True)"
   ]
  },
  {
   "cell_type": "code",
   "execution_count": 40,
   "id": "37b8ecb5",
   "metadata": {},
   "outputs": [
    {
     "name": "stdout",
     "output_type": "stream",
     "text": [
      " ------- ------- ------- ------- ------- ------- -------\n",
      "| 0.000 | 0.000 | 0.000 | 0.000 | 0.000 | 0.000 | 0.000 |\n",
      " ------- ------- ------- ------- ------- ------- -------\n",
      "| 0.009 | 0.000 | 0.000 | 0.000 | 0.000 | 0.000 | 0.000 |\n",
      " ------- ------- ------- ------- ------- ------- -------\n",
      "| 0.021 | 0.081 | 0.128 | 0.152 | 0.900 | 1.000 | 0.000 |\n",
      " ------- ------- ------- ------- ------- ------- -------"
     ]
    }
   ],
   "source": [
    "visualize_value(Q_values, env)"
   ]
  },
  {
   "cell_type": "markdown",
   "id": "1314d1f3",
   "metadata": {},
   "source": [
    "<!-- BEGIN QUESTION -->\n",
    "\n",
    "## Question 3a: \n",
    "\n",
    "Which reward did the agent go for? Why do you think this happened? "
   ]
  },
  {
   "cell_type": "markdown",
   "id": "8c0749d6",
   "metadata": {},
   "source": [
    "The agent went for the large reward by following the long path. This is likely because the agent has learned the Q-values during the training process and has estimated the action values based on the rewards in each state. The agent is choosing the action that maximizes the estimated Q-values, which in this case is the action that leads to the larger reward. The deterministic nature of the environment allows the agent to consistently choose the optimal action that leads to the larger reward."
   ]
  },
  {
   "cell_type": "markdown",
   "id": "30f94e7d",
   "metadata": {},
   "source": [
    "<!-- END QUESTION -->\n",
    "\n",
    "### Now let's try to run a simple $\\epsilon$-greedy agent in this setting.\n",
    "\n",
    "Let's try setting $\\epsilon$ to 0.3 in this case."
   ]
  },
  {
   "cell_type": "code",
   "execution_count": 41,
   "id": "ff974393",
   "metadata": {},
   "outputs": [
    {
     "name": "stdout",
     "output_type": "stream",
     "text": [
      " ----- ----- ----- ----- ----- ----- -----\n",
      "|     |     |     |     |     |  R  |  X  |\n",
      " ----- ----- ----- ----- ----- ----- -----\n",
      "|     |  X  |  X  |  X  |  X  |  X  |  X  |\n",
      " ----- ----- ----- ----- ----- ----- -----\n",
      "|     |     |     |     |     |     |  1  |\n",
      " ----- ----- ----- ----- ----- ----- -----\n"
     ]
    }
   ],
   "source": [
    "# No coding TODOs here, just run this cell to observe what the epsilon-greedy agent does.\n",
    "np.random.seed(0)\n",
    "\n",
    "# Initialize the Q-value estimates.\n",
    "Q_values = init_Q(env)\n",
    "\n",
    "# Learn the Q-value for 100 rollouts.\n",
    "Q_values = run_agent(Q_values, env, 100, epsilon=0.3, alpha=1.0, render=False)\n",
    "# Now let's see what the agent plays after learning the Q-values.\n",
    "Q_values = run_agent(Q_values, env, 1, render=True)"
   ]
  },
  {
   "cell_type": "code",
   "execution_count": 36,
   "id": "808fc52e",
   "metadata": {},
   "outputs": [
    {
     "name": "stdout",
     "output_type": "stream",
     "text": [
      " ------- ------- ------- ------- ------- ------- -------\n",
      "| 65.610| 72.900| 81.000| 90.000|100.000| 0.000 | 0.000 |\n",
      " ------- ------- ------- ------- ------- ------- -------\n",
      "| 59.049| 0.000 | 0.000 | 0.000 | 0.000 | 0.000 | 0.000 |\n",
      " ------- ------- ------- ------- ------- ------- -------\n",
      "| 53.144| 47.830| 43.047| 38.742| 34.868| 31.381| 0.000 |\n",
      " ------- ------- ------- ------- ------- ------- -------"
     ]
    }
   ],
   "source": [
    "visualize_value(Q_values, env)"
   ]
  },
  {
   "cell_type": "markdown",
   "id": "5cf33edb",
   "metadata": {},
   "source": [
    "<!-- BEGIN QUESTION -->\n",
    "\n",
    "### Question 3b: \n",
    "\n",
    "What did the $\\epsilon$-greedy agent do? If it was different from the greedy agent, why do you think this happened?"
   ]
  },
  {
   "cell_type": "markdown",
   "id": "c5945afe",
   "metadata": {},
   "source": [
    "The agent was trained with an epsilon value of 0.3 and ran for 100 rollouts. The agent's behavior may be different from the greedy agent due to the epsilon-greedy exploration strategy. With an epsilon value of 0.3, the agent has a 30% chance of selecting a random action during training, instead of always selecting the action with the maximum Q-value (greedy action). This random exploration allows the agent to explore different actions and potentially discover higher-rewarding paths that may not have been initially apparent. However, during the rollout with render=True, the agent may still select actions based on the epsilon-greedy strategy, which could result in different actions compared to the greedy agent that always selects the greedy action."
   ]
  },
  {
   "cell_type": "markdown",
   "id": "62c4b407",
   "metadata": {},
   "source": [
    "<!-- END QUESTION -->\n",
    "\n",
    "## Question 4. Q-learning in a stochastic setting\n",
    "Finally, let's consider the stochastic setting. In stochastic Grid World, the agent moves in its chosen direction with probability 0.8, and moves in each direction orthogonal to the direction it had meant to go in with probability 0.1. We'll consider a setting where we have a bridge that leads to a high-value end-state. However, crossing carries with it a **risk** of falling down the side of the bridge.\n",
    "\n",
    "For this simulation, we will just look at an $\\epsilon$-greedy agent with $\\epsilon = 0.3$. This time, we will observe the effects of changing the the discount factor $\\gamma$ for the Q-function.\n",
    "\n",
    "### In the cell below, test some different values of $\\gamma$ and try to find a value of $\\gamma$ that will lead the agent to try to cross the bridge and a value of $\\gamma$ that will lead the agent to take the lower valued option.\n",
    "\n",
    "There aren't any special characters to mark the bridge here, the bridge is just represented by the two blank squares with -100's on either side. The agent has a small chance of falling into a squares with -100 reward when passing through each of these \"bridge\" squares. "
   ]
  },
  {
   "cell_type": "code",
   "execution_count": 44,
   "id": "8a101cfa",
   "metadata": {},
   "outputs": [
    {
     "name": "stdout",
     "output_type": "stream",
     "text": [
      " ----- ----- ----- ----- ----- ----- ----- ----- ----- -----\n",
      "|     |     |     |     |     |     |     | -100| -100|     |\n",
      " ----- ----- ----- ----- ----- ----- ----- ----- ----- -----\n",
      "|  R  |     |     |     |     |     |     |     |     | 200 |\n",
      " ----- ----- ----- ----- ----- ----- ----- ----- ----- -----\n",
      "|     |     |     |     |     |     |     | -100| -100|     |\n",
      " ----- ----- ----- ----- ----- ----- ----- ----- ----- -----\n"
     ]
    }
   ],
   "source": [
    "# TODO: run this cell with different values of gamma.\n",
    "np.random.seed(0)\n",
    "\n",
    "# Initialize the world.\n",
    "env = GridWorld([[\"\",  \"\", \"\", \"\", \"\", \"\", \"\",  \"-100\", \"-100\", \"\"],\n",
    "                 [\"1\", \"\", \"\", \"\", \"\", \"R\", \"\",\"\", \"\",\"200\"],\n",
    "                 [\"\",  \"\", \"\", \"\", \"\", \"\", \"\",  \"-100\", \"-100\", \"\"]], stochastic=True)\n",
    "\n",
    "# Initialize the Q-value estimates.\n",
    "Q_values = init_Q(env)\n",
    "\n",
    "# Learn the Q-value for 1000 rollouts.\n",
    "# Try different values of gamma from 0.1 to 0.9\n",
    "Q_values = run_agent(Q_values, env, 1000, epsilon=0.3, gamma=0.9, alpha=0.9, render=False)\n",
    "\n",
    "# Now let's see what the agent plays after learning the Q-values.\n",
    "Q_values = run_agent(Q_values, env, 1, render=True)"
   ]
  },
  {
   "cell_type": "code",
   "execution_count": 43,
   "id": "3d259ef3",
   "metadata": {},
   "outputs": [
    {
     "name": "stdout",
     "output_type": "stream",
     "text": [
      " ------- ------- ------- ------- ------- ------- ------- ------- ------- -------\n",
      "| 0.506 | 1.080 | 2.199 | 25.564| 36.487| 51.810| 43.497| 0.000 | 0.000 | 0.000 |\n",
      " ------- ------- ------- ------- ------- ------- ------- ------- ------- -------\n",
      "| 0.000 | 0.968 | 10.341| 33.328| 49.816| 57.707| 64.125| 66.391|120.902| 0.000 |\n",
      " ------- ------- ------- ------- ------- ------- ------- ------- ------- -------\n",
      "| 0.944 | 0.833 | 9.803 | 25.614| 34.321| 50.044| 42.930| 0.000 | 0.000 | 0.000 |\n",
      " ------- ------- ------- ------- ------- ------- ------- ------- ------- -------"
     ]
    }
   ],
   "source": [
    "visualize_value(Q_values, env)"
   ]
  },
  {
   "cell_type": "markdown",
   "id": "9614c42f",
   "metadata": {},
   "source": [
    "<!-- BEGIN QUESTION -->\n",
    "\n",
    "## Question 4a\n",
    "\n",
    "What values of gamma did you use to achieve each behavior? Why did these values work?"
   ]
  },
  {
   "cell_type": "markdown",
   "id": "aafb7a4a",
   "metadata": {},
   "source": [
    "_Type your answer here, replacing this text._"
   ]
  },
  {
   "cell_type": "markdown",
   "id": "72ff3cc6",
   "metadata": {},
   "source": [
    "<!-- END QUESTION -->\n",
    "\n"
   ]
  },
  {
   "cell_type": "code",
   "execution_count": null,
   "id": "508fa2d1",
   "metadata": {},
   "outputs": [],
   "source": [
    "import matplotlib.image as mpimg\n",
    "img = mpimg.imread('qt.jpg')\n",
    "imgplot = plt.imshow(img)\n",
    "imgplot.axes.get_xaxis().set_visible(False)\n",
    "imgplot.axes.get_yaxis().set_visible(False)\n",
    "print(\"Yay, you've made it to the end of Lab 10!\")\n",
    "plt.show()"
   ]
  },
  {
   "cell_type": "markdown",
   "id": "080496b8",
   "metadata": {
    "deletable": false,
    "editable": false
   },
   "source": [
    "## Submission\n",
    "\n",
    "Make sure you have run all cells in your notebook in order before running the cell below, so that all images/graphs appear in the output. The cell below will generate a zip file for you to submit. **Please save before exporting!**"
   ]
  },
  {
   "cell_type": "code",
   "execution_count": null,
   "id": "52de4beb",
   "metadata": {
    "deletable": false,
    "editable": false
   },
   "outputs": [],
   "source": [
    "# Save your notebook first, then run this cell to export your submission.\n",
    "grader.export(run_tests=True)"
   ]
  },
  {
   "cell_type": "markdown",
   "id": "0bbba872",
   "metadata": {},
   "source": [
    " "
   ]
  }
 ],
 "metadata": {
  "kernelspec": {
   "display_name": "Python 3 (ipykernel)",
   "language": "python",
   "name": "python3"
  },
  "language_info": {
   "codemirror_mode": {
    "name": "ipython",
    "version": 3
   },
   "file_extension": ".py",
   "mimetype": "text/x-python",
   "name": "python",
   "nbconvert_exporter": "python",
   "pygments_lexer": "ipython3",
   "version": "3.9.15"
  },
  "otter": {
   "OK_FORMAT": true,
   "tests": {
    "q1a": {
     "name": "q1a",
     "points": 1,
     "suites": [
      {
       "cases": [
        {
         "code": ">>> np.random.seed(20)\n>>> test_samples = run_policy(random_policy, simple_env, False)\n>>> checks = [test_samples[2][1] == 'south',\n...           test_samples[-1][3] == 100]\n>>> assert np.all(checks)\n",
         "hidden": false,
         "locked": false
        }
       ],
       "scored": true,
       "setup": "",
       "teardown": "",
       "type": "doctest"
      }
     ]
    },
    "q1b": {
     "name": "q1b",
     "points": 1,
     "suites": [
      {
       "cases": [
        {
         "code": ">>> np.random.seed(20)\n>>> test_samples = run_policy(random_policy, simple_env, False)\n>>> value = calculate_return(test_samples)\n>>> assert np.round(value, 4) == 25.4187\n",
         "hidden": false,
         "locked": false
        }
       ],
       "scored": true,
       "setup": "",
       "teardown": "",
       "type": "doctest"
      }
     ]
    },
    "q2a": {
     "name": "q2a",
     "points": 1,
     "suites": [
      {
       "cases": [
        {
         "code": ">>> env = GridWorld([[\"R\", \"100\"],\n...                  [\"\", \"100\"],\n...                  [\"100\", \"X\"]], stochastic=False)\n>>> \n>>> Qopt = {(0, 0): {'north': 90, 'west': 90,'east': 100,'south': 90},\n...         (0, 1): {'north': 0, 'west': 0, 'east': 0,'south': 0},\n...         (1, 0): {'north': 90, 'west': 90, 'east': 100,'south': 100},\n...         (1, 1): {'north': 0, 'west': 0, 'east': 0, 'south': 0},\n...         (2, 0): {'north': 0, 'west': 0, 'east': 0, 'south': 0},\n...         (2, 1): {'north': 0, 'west': 0, 'east': 0, 'south': 0}}\n>>> \n>>> checks = [greedy_action((1,0), Qopt) == ['east', 'south'],\n...           greedy_action((0,0), Qopt) == ['east']]\n>>> \n>>> assert np.all(checks)\n",
         "hidden": false,
         "locked": false
        }
       ],
       "scored": true,
       "setup": "",
       "teardown": "",
       "type": "doctest"
      }
     ]
    },
    "q2b": {
     "name": "q2b",
     "points": 1,
     "suites": [
      {
       "cases": [
        {
         "code": ">>> old_state_test = (1,1)\n>>> action_test = 'west'\n>>> new_state_test = (1,2)\n>>> \n>>> Q_values_test = {(0, 0): {'north': 10.2, 'west': 8.3, 'east': -5.0, 'south': 8.1},\n...                  (0, 1): {'north': 8.2, 'west': -4.2, 'east': -7.7, 'south': 20.1},\n...                  (0, 2): {'north': 16.6, 'west': 27.9, 'east': 19.5, 'south': 13.3},\n...                  (0, 3): {'north': -2.0, 'west': 3.4, 'east': -2.4, 'south': 0.9},\n...                  (0, 4): {'north': 0.6, 'west': -3.9, 'east': 16.3, 'south': 12.5},\n...                  (1, 0): {'north': 25.9, 'west': 20.4, 'east': -5.2, 'south': -5.0},\n...                  (1, 1): {'north': 9.6, 'west': 38.5, 'east': 5.2, 'south': 8.7},\n...                  (1, 2): {'north': 6.7, 'west': 18.4, 'east': 12.3, 'south': 28.8},\n...                  (1, 3): {'north': -4.8, 'west': 24.9, 'east': 3.9, 'south': 14.4},\n...                  (1, 4): {'north': 25.1, 'west': 21.6, 'east': 14.6, 'south': 16.4},\n...                  (2, 0): {'north': 11.0, 'west': 21.9, 'east': 2.1, 'south': -4.1},\n...                  (2, 1): {'north': 10.9, 'west': 10.9, 'east': 11.3, 'south': 15.0},\n...                  (2, 2): {'north': 19.2, 'west': 13.6, 'east': 2.7, 'south': -0.6},\n...                  (2, 3): {'north': 7.2, 'west': 16.1, 'east': 3.2, 'south': 2.1},\n...                  (2, 4): {'north': 10.9, 'west': 19.7, 'east': 19.4, 'south': -6.1}}\n>>> \n>>> reward_test_list = [-10, 0, 10, 100]\n>>> output_test = [34.465, 35.965, 37.465, 50.965]\n>>> checks = []\n>>> for i,reward_test in enumerate(reward_test_list):\n...     updated_Q_values_test = update_Q(copy.deepcopy(Q_values_test), old_state_test, action_test,\n...                                      new_state_test, reward_test, 0.75, 0.15)\n...     cur_out = updated_Q_values_test[old_state_test][action_test]\n...     checks.append(np.abs(output_test[i]-cur_out)<0.01)\n>>> \n>>> assert np.all(checks)\n",
         "hidden": false,
         "locked": false
        }
       ],
       "scored": true,
       "setup": "",
       "teardown": "",
       "type": "doctest"
      }
     ]
    },
    "q2c": {
     "name": "q2c",
     "points": 1,
     "suites": [
      {
       "cases": [
        {
         "code": ">>> np.random.seed(0)\n>>> env_test = GridWorld([[\"R\", \"\", \"100\",  \"X\", ],\n...                       [\"\", \"X\", \"X\", \"X\"],\n...                       [\"\", \"\", \"\",  \"100\"]], stochastic=False)\n>>> Q_values_test = init_Q(env_test)\n>>> Q_values_test = run_agent(Q_values_test, env_test, 1000, alpha=0.5, render=False)\n>>> \n>>> output_test = {(0, 0): {'north': 3.345, 'west': 5.017, 'east': 0.0, 'south': 65.610},\n...                (0, 1): {'north': 0.0, 'west': 0.0, 'east': 0.0, 'south': 0.0},\n...                (0, 2): {'north': 0.0, 'west': 0.0, 'east': 0.0, 'south': 0.0},\n...                (0, 3): {'north': 0.0, 'west': 0.0, 'east': 0.0, 'south': 0.0},\n...                (1, 0): {'north': 3.345, 'west': 8.458,'east': 3.075,'south': 72.9},\n...                (1, 1): {'north': 0.0, 'west': 0.0, 'east': 0.0, 'south': 0.0},\n...                (1, 2): {'north': 0.0, 'west': 0.0, 'east': 0.0, 'south': 0.0},\n...                (1, 3): {'north': 0.0, 'west': 0.0, 'east': 0.0, 'south': 0.0},\n...                (2, 0): {'north': 6.664,'west': 12.530,'east': 81.0, 'south': 12.530},\n...                (2, 1): {'north': 22.781, 'west': 4.556, 'east': 90.0, 'south': 25.313},\n...                (2, 2): {'north': 43.594, 'west': 20.25, 'east': 100.0, 'south': 33.75},\n...                (2, 3): {'north': 0.0, 'west': 0.0, 'east': 0.0, 'south': 0.0}}\n>>> checks = []\n>>> for state, state_dict in Q_values_test.items():\n...     for action, q_val in state_dict.items():\n...         checks.append(np.abs(q_val - output_test[state][action]) < 0.01)\n>>> assert np.all(checks)\n",
         "hidden": false,
         "locked": false
        }
       ],
       "scored": true,
       "setup": "",
       "teardown": "",
       "type": "doctest"
      }
     ]
    }
   }
  }
 },
 "nbformat": 4,
 "nbformat_minor": 5
}
